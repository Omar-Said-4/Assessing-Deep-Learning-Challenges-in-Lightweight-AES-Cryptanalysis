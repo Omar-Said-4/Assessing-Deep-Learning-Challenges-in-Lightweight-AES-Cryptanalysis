{
 "cells": [
  {
   "cell_type": "code",
   "execution_count": 49,
   "metadata": {},
   "outputs": [],
   "source": [
    "#import aes\n",
    "import random\n",
    "import csv\n",
    "import os\n",
    "from saes import SimplifiedAES as saes"
   ]
  },
  {
   "cell_type": "code",
   "execution_count": 50,
   "metadata": {},
   "outputs": [],
   "source": [
    "def generate_random_16bit():\n",
    "    return random.getrandbits(16)"
   ]
  },
  {
   "cell_type": "code",
   "execution_count": 51,
   "metadata": {},
   "outputs": [],
   "source": [
    "def int_to_hex_str(value):\n",
    "    return hex(value)[2:].zfill(4)"
   ]
  },
  {
   "cell_type": "code",
   "execution_count": 52,
   "metadata": {},
   "outputs": [],
   "source": [
    "num_pairs = 100\n",
    "output_file = 'aes_Quintuplets.csv'"
   ]
  },
  {
   "cell_type": "code",
   "execution_count": 53,
   "metadata": {},
   "outputs": [],
   "source": [
    "pt_values=[generate_random_16bit() for i in range(num_pairs)]\n",
    "key_values=[generate_random_16bit() for i in range(num_pairs)]\n",
    "iv_values=[generate_random_16bit() for i in range(num_pairs)]\n",
    "\n",
    "with open(output_file, mode='w', newline='') as file:\n",
    "    writer = csv.writer(file)\n",
    "    writer.writerow(['plaintext', 'ciphertext', 'key', 'IV','keystream'])  \n",
    "    for i in range(num_pairs):\n",
    "        keystream = saes(key_values[i])\n",
    "        keystream=keystream.encrypt(iv_values[i])\n",
    "        ct = pt_values[i] ^ keystream\n",
    "        pt = int_to_hex_str(pt_values[i])\n",
    "        key = int_to_hex_str(key_values[i])\n",
    "        iv = int_to_hex_str(iv_values[i])\n",
    "        keystream = int_to_hex_str(keystream)\n",
    "        writer.writerow([pt, ct, key, iv, keystream])  "
   ]
  }
 ],
 "metadata": {
  "kernelspec": {
   "display_name": "Python 3",
   "language": "python",
   "name": "python3"
  },
  "language_info": {
   "codemirror_mode": {
    "name": "ipython",
    "version": 3
   },
   "file_extension": ".py",
   "mimetype": "text/x-python",
   "name": "python",
   "nbconvert_exporter": "python",
   "pygments_lexer": "ipython3",
   "version": "3.11.4"
  }
 },
 "nbformat": 4,
 "nbformat_minor": 2
}
